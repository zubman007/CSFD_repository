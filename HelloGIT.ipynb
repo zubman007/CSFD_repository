{
 "cells": [
  {
   "cell_type": "code",
   "execution_count": 1,
   "metadata": {},
   "outputs": [
    {
     "name": "stdout",
     "output_type": "stream",
     "text": [
      "Hello GITe\n"
     ]
    }
   ],
   "source": [
    "print(\"Hello GITe\")\n",
    "print(\"Toto je zkušební branch\")"
   ]
  }
 ],
 "metadata": {
  "interpreter": {
   "hash": "1cfa48123f05a9524fac1efee575804cbcde71246f2aef0f63c2a2693f056cb6"
  },
  "kernelspec": {
   "display_name": "Python 3.9.5 64-bit",
   "language": "python",
   "name": "python3"
  },
  "language_info": {
   "codemirror_mode": {
    "name": "ipython",
    "version": 3
   },
   "file_extension": ".py",
   "mimetype": "text/x-python",
   "name": "python",
   "nbconvert_exporter": "python",
   "pygments_lexer": "ipython3",
   "version": "3.9.5"
  },
  "orig_nbformat": 4
 },
 "nbformat": 4,
 "nbformat_minor": 2
}
